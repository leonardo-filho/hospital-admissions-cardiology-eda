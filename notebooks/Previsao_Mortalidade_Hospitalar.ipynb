{
 "cells": [
  {
   "cell_type": "markdown",
   "id": "c7688653",
   "metadata": {},
   "source": [
    "# 🏥 Projeto: Previsão de Mortalidade em Pacientes Hospitalares\n",
    "Este notebook tem como objetivo utilizar dados hospitalares e ambientais para prever a mortalidade dos pacientes durante a internação hospitalar."
   ]
  },
  {
   "cell_type": "code",
   "execution_count": 1,
   "id": "ec97ac3b",
   "metadata": {},
   "outputs": [],
   "source": [
    "import pandas as pd\n",
    "import numpy as np\n",
    "import matplotlib.pyplot as plt\n",
    "import seaborn as sns\n",
    "\n",
    "from sklearn.model_selection import train_test_split\n",
    "from sklearn.ensemble import RandomForestClassifier\n",
    "from sklearn.metrics import classification_report, confusion_matrix, accuracy_score\n",
    "\n",
    "import warnings\n",
    "warnings.filterwarnings('ignore')"
   ]
  },
  {
   "cell_type": "markdown",
   "id": "9908aa32",
   "metadata": {},
   "source": [
    "## 📂 Carregamento dos Dados"
   ]
  },
  {
   "cell_type": "code",
   "execution_count": 3,
   "id": "559ad2a5",
   "metadata": {},
   "outputs": [],
   "source": [
    "admissions = pd.read_csv('../data/HDHI Admission data.csv')\n",
    "mortality = pd.read_csv('../data/HDHI Mortality Data.csv')\n",
    "pollution = pd.read_csv('../data/HDHI Pollution Data.csv')"
   ]
  },
  {
   "cell_type": "markdown",
   "id": "da5ff268",
   "metadata": {},
   "source": [
    "## 🧹 Pré-processamento Inicial"
   ]
  },
  {
   "cell_type": "code",
   "execution_count": 4,
   "id": "d8c87d38",
   "metadata": {},
   "outputs": [],
   "source": [
    "# Datas\n",
    "admissions['D.O.A'] = pd.to_datetime(admissions['D.O.A'], errors='coerce')\n",
    "mortality['DATE OF BROUGHT DEAD'] = pd.to_datetime(mortality['DATE OF BROUGHT DEAD'], errors='coerce')\n",
    "pollution['DATE'] = pd.to_datetime(pollution['DATE'], errors='coerce')\n",
    "\n",
    "# Variável alvo\n",
    "admissions['MORTALITY'] = admissions['MRD No.'].isin(mortality['MRD']).astype(int)"
   ]
  },
  {
   "cell_type": "markdown",
   "id": "499b5654",
   "metadata": {},
   "source": [
    "## 🔍 Análise Exploratória Inicial"
   ]
  },
  {
   "cell_type": "code",
   "execution_count": 5,
   "id": "757135a5",
   "metadata": {},
   "outputs": [
    {
     "name": "stdout",
     "output_type": "stream",
     "text": [
      "MORTALITY\n",
      "0    15694\n",
      "1       63\n",
      "Name: count, dtype: int64\n"
     ]
    },
    {
     "data": {
      "image/png": "[encoded data removed]",
      "text/plain": [
       "<Figure size 640x480 with 1 Axes>"
      ]
     },
     "metadata": {},
     "output_type": "display_data"
    }
   ],
   "source": [
    "print(admissions['MORTALITY'].value_counts())\n",
    "sns.countplot(x='MORTALITY', data=admissions)\n",
    "plt.title('Distribuição da Mortalidade')\n",
    "plt.show()"
   ]
  },
  {
   "cell_type": "markdown",
   "id": "6e6e98f7",
   "metadata": {},
   "source": [
    "## 🧠 Seleção de Variáveis e Preparação dos Dados para o Modelo"
   ]
  },
  {
   "cell_type": "code",
   "execution_count": 6,
   "id": "1f7e5304",
   "metadata": {},
   "outputs": [],
   "source": [
    "# Seleção de colunas numéricas e remoção de colunas irrelevantes\n",
    "features = admissions.select_dtypes(include=['int64', 'float64'])\n",
    "features = features.drop(columns=['SNO'])  # Remover ID\n",
    "X = features.drop('MORTALITY', axis=1)\n",
    "y = features['MORTALITY']\n",
    "\n",
    "# Divisão em treino e teste\n",
    "X_train, X_test, y_train, y_test = train_test_split(X, y, test_size=0.3, random_state=42)"
   ]
  },
  {
   "cell_type": "markdown",
   "id": "3aa7b4e8",
   "metadata": {},
   "source": [
    "## 🤖 Treinamento do Modelo"
   ]
  },
  {
   "cell_type": "code",
   "execution_count": 7,
   "id": "9a6b34f8",
   "metadata": {},
   "outputs": [],
   "source": [
    "clf = RandomForestClassifier(random_state=42)\n",
    "clf.fit(X_train, y_train)\n",
    "y_pred = clf.predict(X_test)"
   ]
  },
  {
   "cell_type": "markdown",
   "id": "a807089e",
   "metadata": {},
   "source": [
    "## 📊 Avaliação do Modelo"
   ]
  },
  {
   "cell_type": "code",
   "execution_count": 8,
   "id": "80ee31cc",
   "metadata": {},
   "outputs": [
    {
     "name": "stdout",
     "output_type": "stream",
     "text": [
      "Acurácia: 0.9947123519458545\n",
      "[[4699    0]\n",
      " [  25    4]]\n",
      "              precision    recall  f1-score   support\n",
      "\n",
      "           0       0.99      1.00      1.00      4699\n",
      "           1       1.00      0.14      0.24        29\n",
      "\n",
      "    accuracy                           0.99      4728\n",
      "   macro avg       1.00      0.57      0.62      4728\n",
      "weighted avg       0.99      0.99      0.99      4728\n",
      "\n"
     ]
    }
   ],
   "source": [
    "print('Acurácia:', accuracy_score(y_test, y_pred))\n",
    "print(confusion_matrix(y_test, y_pred))\n",
    "print(classification_report(y_test, y_pred))"
   ]
  }
 ],
 "metadata": {
  "kernelspec": {
   "display_name": "Python 3",
   "language": "python",
   "name": "python3"
  },
  "language_info": {
   "codemirror_mode": {
    "name": "ipython",
    "version": 3
   },
   "file_extension": ".py",
   "mimetype": "text/x-python",
   "name": "python",
   "nbconvert_exporter": "python",
   "pygments_lexer": "ipython3",
   "version": "3.11.9"
  }
 },
 "nbformat": 4,
 "nbformat_minor": 5
}
